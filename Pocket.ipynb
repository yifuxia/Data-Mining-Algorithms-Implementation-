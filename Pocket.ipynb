{
 "cells": [
  {
   "cell_type": "code",
   "execution_count": 9,
   "metadata": {
    "collapsed": false
   },
   "outputs": [],
   "source": [
    "import csv\n",
    "import numpy as np\n",
    "import math\n",
    "from matplotlib import pyplot as plt\n",
    "from mpl_toolkits.mplot3d import Axes3D\n",
    "from IPython.display import Image\n",
    "data = []\n",
    "with open('linear.txt') as csvfile:\n",
    "    points = csv.reader(csvfile,delimiter=',')\n",
    "    for point_str in points:\n",
    "        data.append(point_str)\n",
    "data=np.array(data).astype(np.float)\n",
    "X = np.delete(data, np.s_[3:5], axis=1)\n",
    "Y = data[:,4]"
   ]
  },
  {
   "cell_type": "code",
   "execution_count": 12,
   "metadata": {
    "collapsed": false
   },
   "outputs": [],
   "source": [
    "X = np.append(X,(np.zeros(len(X)) + 1).T.reshape(50,1),axis=1)"
   ]
  },
  {
   "cell_type": "code",
   "execution_count": 39,
   "metadata": {
    "collapsed": false
   },
   "outputs": [
    {
     "data": {
      "text/plain": [
       "array([ 0.,  0.,  0.,  0.])"
      ]
     },
     "execution_count": 39,
     "metadata": {},
     "output_type": "execute_result"
    }
   ],
   "source": [
    "W = np.zeros(X[0].shape[0])\n",
    "W"
   ]
  },
  {
   "cell_type": "code",
   "execution_count": 14,
   "metadata": {
    "collapsed": true
   },
   "outputs": [],
   "source": [
    "def pla_engine(x,W,threshold = 0):\n",
    "    result = 0\n",
    "    if W.dot(x.T) >= threshold:\n",
    "        result=1\n",
    "    else:\n",
    "        result=-1\n",
    "    return result"
   ]
  },
  {
   "cell_type": "code",
   "execution_count": 46,
   "metadata": {
    "collapsed": true
   },
   "outputs": [],
   "source": [
    "def learning(X,W,Y,rate=0.01,iteration=500):\n",
    "        cvg = 1\n",
    "        error = np.zeros(Y.shape[0])\n",
    "        new_W = W\n",
    "        global_err = 999\n",
    "        h = 999\n",
    "        result = []\n",
    "        while iteration > 0:\n",
    "            iteration -= 1\n",
    "            global_err = 0\n",
    "            for index,x in enumerate(X):\n",
    "                output = pla_engine(x,new_W)\n",
    "                error = Y[index] - output \n",
    "                new_W += rate * error * x\n",
    "                global_err += abs(error)\n",
    "            if global_err < h:\n",
    "                h = global_err\n",
    "                print [new_W,h]\n",
    "                result.append([new_W,h])\n",
    "        return result"
   ]
  },
  {
   "cell_type": "code",
   "execution_count": 47,
   "metadata": {
    "collapsed": false,
    "scrolled": true
   },
   "outputs": [
    {
     "name": "stdout",
     "output_type": "stream",
     "text": [
      "[array([-19.06470828, -24.78426715,   7.86740579,  -5.5       ]), 24.0]\n",
      "[array([-19.06494196, -24.80446231,   7.75778807,  -5.5       ]), 20.0]\n"
     ]
    },
    {
     "data": {
      "text/plain": [
       "[[array([-20.17074882, -26.98044459,   8.20556822,  -6.84      ]), 24.0],\n",
       " [array([-20.17074882, -26.98044459,   8.20556822,  -6.84      ]), 20.0]]"
      ]
     },
     "execution_count": 47,
     "metadata": {},
     "output_type": "execute_result"
    }
   ],
   "source": [
    "learning(X,W,Y)"
   ]
  },
  {
   "cell_type": "code",
   "execution_count": 48,
   "metadata": {
    "collapsed": false
   },
   "outputs": [
    {
     "name": "stdout",
     "output_type": "stream",
     "text": [
      "[array([-20.1277041 , -26.97755659,   8.30891418,  -6.84      ]), 20.0]\n"
     ]
    }
   ],
   "source": [
    "final_W =learning(X,W,Y)[-1][0]"
   ]
  },
  {
   "cell_type": "code",
   "execution_count": 49,
   "metadata": {
    "collapsed": false
   },
   "outputs": [
    {
     "name": "stdout",
     "output_type": "stream",
     "text": [
      "-1\n",
      "1\n",
      "-1\n",
      "-1\n",
      "-1\n",
      "-1\n",
      "-1\n",
      "-1\n",
      "-1\n",
      "1\n",
      "-1\n",
      "1\n",
      "-1\n",
      "-1\n",
      "1\n",
      "-1\n",
      "-1\n",
      "-1\n",
      "-1\n",
      "-1\n",
      "-1\n",
      "1\n",
      "-1\n",
      "-1\n",
      "-1\n",
      "-1\n",
      "1\n",
      "-1\n",
      "-1\n",
      "-1\n",
      "-1\n",
      "1\n",
      "-1\n",
      "1\n",
      "-1\n",
      "-1\n",
      "-1\n",
      "-1\n",
      "-1\n",
      "-1\n",
      "-1\n",
      "1\n",
      "1\n",
      "-1\n",
      "-1\n",
      "-1\n",
      "-1\n",
      "-1\n",
      "-1\n",
      "-1\n"
     ]
    }
   ],
   "source": []
  },
  {
   "cell_type": "code",
   "execution_count": null,
   "metadata": {
    "collapsed": true
   },
   "outputs": [],
   "source": []
  }
 ],
 "metadata": {
  "kernelspec": {
   "display_name": "Python 2",
   "language": "python",
   "name": "python2"
  },
  "language_info": {
   "codemirror_mode": {
    "name": "ipython",
    "version": 2
   },
   "file_extension": ".py",
   "mimetype": "text/x-python",
   "name": "python",
   "nbconvert_exporter": "python",
   "pygments_lexer": "ipython2",
   "version": "2.7.10"
  }
 },
 "nbformat": 4,
 "nbformat_minor": 0
}
