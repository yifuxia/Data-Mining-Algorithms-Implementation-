{
 "cells": [
  {
   "cell_type": "code",
   "execution_count": 29,
   "metadata": {
    "collapsed": true
   },
   "outputs": [],
   "source": [
    "import csv\n",
    "import numpy as np\n",
    "data = []\n",
    "with open('clusters.txt') as csvfile:\n",
    "    points = csv.reader(csvfile,delimiter=',')\n",
    "    for point_str in points:\n",
    "        data.append([float(point_str[0]),float(point_str[1])])"
   ]
  },
  {
   "cell_type": "code",
   "execution_count": 30,
   "metadata": {
    "collapsed": false
   },
   "outputs": [
    {
     "data": {
      "text/plain": [
       "[[-1.861331241, -2.991682765],\n",
       " [-2.17009237, -3.292317782],\n",
       " [-1.014080969, 0.38579499],\n",
       " [-2.912942536, -2.579539167],\n",
       " [0.035720735, -0.799697919],\n",
       " [2.483509421, 1.550806091],\n",
       " [-0.557616974, 1.844299967],\n",
       " [1.108422549, 3.089071693],\n",
       " [0.362326849, -2.019124527],\n",
       " [2.709714097, 1.713412757],\n",
       " [-0.354004402, 0.650573081],\n",
       " [0.655103152, 2.504877515],\n",
       " [5.517977144, 0.440317168],\n",
       " [2.563056623, 1.630393367],\n",
       " [-2.088136684, 2.278844396],\n",
       " [2.503931156, -0.823421912],\n",
       " [-2.066633814, -0.922130196],\n",
       " [0.022152636, -2.65809723],\n",
       " [0.647043958, -0.175000364],\n",
       " [1.945385949, 0.710891971],\n",
       " [-0.888304367, -1.486277456],\n",
       " [1.202686553, 0.144061369],\n",
       " [3.957251541, -0.712806721],\n",
       " [-4.260793979, -0.863383567],\n",
       " [-2.407681997, 1.558656361],\n",
       " [2.671969068, 1.632649153],\n",
       " [-0.657288731, 2.296608052],\n",
       " [-0.085368179, -2.169919876],\n",
       " [2.065980497, -0.272244547],\n",
       " [4.970915839, 1.310183455],\n",
       " [-2.911126633, -2.5869221],\n",
       " [-2.032565311, 3.853479975],\n",
       " [-0.173295647, 0.466503496],\n",
       " [0.001141395, -1.090044699],\n",
       " [0.238936033, 2.065624994],\n",
       " [-0.698691938, 0.75427311],\n",
       " [2.727212888, 0.218510668],\n",
       " [-2.033841104, -1.36037659],\n",
       " [0.45610562, -3.530784753],\n",
       " [2.213142571, -1.927135447],\n",
       " [0.838971758, -1.291265274],\n",
       " [-1.391116494, 0.905055556],\n",
       " [0.269569161, 1.228996444],\n",
       " [-0.709719127, -1.57060131],\n",
       " [-1.340933861, 1.656352386],\n",
       " [3.02574413, 1.334834017],\n",
       " [-0.441998312, -0.251001766],\n",
       " [-1.292451675, -1.902457742],\n",
       " [-1.6903992, 1.784079993],\n",
       " [0.271009047, -0.25944316],\n",
       " [-2.013485131, -0.813921938],\n",
       " [-0.747712984, -0.42340055],\n",
       " [-0.476414674, -0.660342733],\n",
       " [-2.461629635, -1.6728271],\n",
       " [0.866405597, -1.537013685],\n",
       " [-3.149052031, -2.040157753],\n",
       " [-2.635236659, -0.002715675],\n",
       " [0.224019127, -1.026053949],\n",
       " [-0.674825989, -1.656999196],\n",
       " [-1.428913044, -0.322254384],\n",
       " [-0.988403911, -1.510834134],\n",
       " [-0.268681527, -0.553995371],\n",
       " [-1.868022763, 0.51663461],\n",
       " [-0.07184042, -0.062243723],\n",
       " [-0.302683237, -1.16016268],\n",
       " [-1.045150343, -1.11383812],\n",
       " [-0.808788859, 0.937126165],\n",
       " [-1.628762958, -1.170798806],\n",
       " [-1.856613207, -0.698831465],\n",
       " [-1.38871274, -0.674011314],\n",
       " [0.02850845, -0.075163335],\n",
       " [-1.239720321, -0.78470877],\n",
       " [-1.451622767, -0.633750694],\n",
       " [-1.979267221, -0.677849094],\n",
       " [-2.133447286, 1.6890035],\n",
       " [-0.977879107, -0.123931134],\n",
       " [0.040239494, -1.876490013],\n",
       " [0.231484088, -2.217446994],\n",
       " [-0.439820579, -2.614839707],\n",
       " [-1.30903867, 0.840080492],\n",
       " [-1.367604084, -1.818925757],\n",
       " [-0.634366635, -0.007864425],\n",
       " [-0.0625613, -0.466182212],\n",
       " [-0.025756298, -2.526727116],\n",
       " [-3.118923984, 1.022859185],\n",
       " [-1.046464742, -0.44770405],\n",
       " [-1.966780905, 0.820142408],\n",
       " [-1.471249024, -0.657355514],\n",
       " [0.735227438, -0.820438514],\n",
       " [-1.777530134, -2.019318258],\n",
       " [-2.68379741, -0.962400535],\n",
       " [-0.822972897, -0.862876698],\n",
       " [-1.124477539, -2.521052262],\n",
       " [-1.415554856, -1.018918453],\n",
       " [-0.120541736, -0.836753322],\n",
       " [-0.433871895, -1.721150679],\n",
       " [-0.624083008, -0.589396641],\n",
       " [-1.276953828, -2.212631093],\n",
       " [-0.649901474, -1.573744692],\n",
       " [-1.291307157, -0.894607808],\n",
       " [3.951942892, 2.22086267],\n",
       " [5.730569717, 3.146865381],\n",
       " [4.371596477, 4.600689623],\n",
       " [3.485988104, 5.436480626],\n",
       " [6.613567952, 4.269563509],\n",
       " [6.039303337, 4.14499667],\n",
       " [5.989625741, 4.648855334],\n",
       " [6.186645661, 8.595480962],\n",
       " [6.748367662, 4.576277497],\n",
       " [6.716238425, 4.243822227],\n",
       " [5.058353716, 6.7328904],\n",
       " [4.22010943, 4.155101237],\n",
       " [4.808337705, 2.834357979],\n",
       " [7.144034224, 5.614086814],\n",
       " [2.925245443, 3.380115652],\n",
       " [4.022441045, 4.350050329],\n",
       " [6.807063521, 5.517710153],\n",
       " [6.465317971, 5.39940756],\n",
       " [4.141706131, 1.222944183],\n",
       " [4.641781214, -0.091193854],\n",
       " [4.73015313, 2.784619761],\n",
       " [4.522996541, 6.861180403],\n",
       " [0.768168376, 4.407158109],\n",
       " [4.259855126, 3.737156474],\n",
       " [5.535308292, 3.729993007],\n",
       " [9.24625283, 5.798154028],\n",
       " [2.466653985, 4.572414717],\n",
       " [3.899209735, 4.824121253],\n",
       " [4.332341441, 0.379144641],\n",
       " [3.367927409, 3.698562852],\n",
       " [3.832990752, 4.033234891],\n",
       " [1.667111769, 2.510388945],\n",
       " [4.805286947, 3.9602504],\n",
       " [4.101915277, 2.956755898],\n",
       " [5.926616878, 5.506714092],\n",
       " [5.099433384, 3.01132382],\n",
       " [6.846049468, 6.259771187],\n",
       " [7.807198154, 3.926138031],\n",
       " [5.21105679, 5.551104793],\n",
       " [2.855650295, 7.957486741],\n",
       " [5.422837908, 4.115748421],\n",
       " [7.421854319, 6.588704854],\n",
       " [4.834635336, 2.142437441],\n",
       " [5.671382288, 7.158125544],\n",
       " [3.326294053, 1.906939311],\n",
       " [7.6139873, 3.886738434],\n",
       " [5.69945536, 3.433902874],\n",
       " [4.268829876, 2.0096126],\n",
       " [2.100505144, 1.734405305],\n",
       " [3.808989639, 5.119568133]]"
      ]
     },
     "execution_count": 30,
     "metadata": {},
     "output_type": "execute_result"
    }
   ],
   "source": [
    "data"
   ]
  },
  {
   "cell_type": "code",
   "execution_count": 31,
   "metadata": {
    "collapsed": false
   },
   "outputs": [],
   "source": [
    "#kmeans result\n",
    "kmeans_result = []\n",
    "with open('kmeans_result') as csvfile:\n",
    "    points = csv.reader(csvfile,delimiter=',')\n",
    "    for point_str in points:\n",
    "        kmeans_result.append([float(point_str[0]),float(point_str[1]),float(point_str[2])])"
   ]
  },
  {
   "cell_type": "code",
   "execution_count": 32,
   "metadata": {
    "collapsed": false,
    "scrolled": false
   },
   "outputs": [
    {
     "data": {
      "text/plain": [
       "[[-1.861331241, -2.991682765, 2.0],\n",
       " [-2.17009237, -3.292317782, 2.0],\n",
       " [-1.014080969, 0.38579499, 2.0],\n",
       " [-2.912942536, -2.579539167, 2.0],\n",
       " [0.035720735, -0.799697919, 2.0],\n",
       " [2.483509421, 1.550806091, 0.0],\n",
       " [-0.557616974, 1.844299967, 2.0],\n",
       " [1.108422549, 3.089071693, 0.0],\n",
       " [0.362326849, -2.019124527, 2.0],\n",
       " [2.709714097, 1.713412757, 0.0],\n",
       " [-0.354004402, 0.650573081, 2.0],\n",
       " [0.655103152, 2.504877515, 0.0],\n",
       " [5.517977144, 0.440317168, 0.0],\n",
       " [2.563056623, 1.630393367, 0.0],\n",
       " [-2.088136684, 2.278844396, 2.0],\n",
       " [2.503931156, -0.823421912, 0.0],\n",
       " [-2.066633814, -0.922130196, 2.0],\n",
       " [0.022152636, -2.65809723, 2.0],\n",
       " [0.647043958, -0.175000364, 2.0],\n",
       " [1.945385949, 0.710891971, 0.0],\n",
       " [-0.888304367, -1.486277456, 2.0],\n",
       " [1.202686553, 0.144061369, 0.0],\n",
       " [3.957251541, -0.712806721, 0.0],\n",
       " [-4.260793979, -0.863383567, 2.0],\n",
       " [-2.407681997, 1.558656361, 2.0],\n",
       " [2.671969068, 1.632649153, 0.0],\n",
       " [-0.657288731, 2.296608052, 2.0],\n",
       " [-0.085368179, -2.169919876, 2.0],\n",
       " [2.065980497, -0.272244547, 0.0],\n",
       " [4.970915839, 1.310183455, 0.0],\n",
       " [-2.911126633, -2.5869221, 2.0],\n",
       " [-2.032565311, 3.853479975, 2.0],\n",
       " [-0.173295647, 0.466503496, 2.0],\n",
       " [0.001141395, -1.090044699, 2.0],\n",
       " [0.238936033, 2.065624994, 0.0],\n",
       " [-0.698691938, 0.75427311, 2.0],\n",
       " [2.727212888, 0.218510668, 0.0],\n",
       " [-2.033841104, -1.36037659, 2.0],\n",
       " [0.45610562, -3.530784753, 2.0],\n",
       " [2.213142571, -1.927135447, 0.0],\n",
       " [0.838971758, -1.291265274, 2.0],\n",
       " [-1.391116494, 0.905055556, 2.0],\n",
       " [0.269569161, 1.228996444, 2.0],\n",
       " [-0.709719127, -1.57060131, 2.0],\n",
       " [-1.340933861, 1.656352386, 2.0],\n",
       " [3.02574413, 1.334834017, 0.0],\n",
       " [-0.441998312, -0.251001766, 2.0],\n",
       " [-1.292451675, -1.902457742, 2.0],\n",
       " [-1.6903992, 1.784079993, 2.0],\n",
       " [0.271009047, -0.25944316, 2.0],\n",
       " [-2.013485131, -0.813921938, 2.0],\n",
       " [-0.747712984, -0.42340055, 2.0],\n",
       " [-0.476414674, -0.660342733, 2.0],\n",
       " [-2.461629635, -1.6728271, 2.0],\n",
       " [0.866405597, -1.537013685, 2.0],\n",
       " [-3.149052031, -2.040157753, 2.0],\n",
       " [-2.635236659, -0.002715675, 2.0],\n",
       " [0.224019127, -1.026053949, 2.0],\n",
       " [-0.674825989, -1.656999196, 2.0],\n",
       " [-1.428913044, -0.322254384, 2.0],\n",
       " [-0.988403911, -1.510834134, 2.0],\n",
       " [-0.268681527, -0.553995371, 2.0],\n",
       " [-1.868022763, 0.51663461, 2.0],\n",
       " [-0.07184042, -0.062243723, 2.0],\n",
       " [-0.302683237, -1.16016268, 2.0],\n",
       " [-1.045150343, -1.11383812, 2.0],\n",
       " [-0.808788859, 0.937126165, 2.0],\n",
       " [-1.628762958, -1.170798806, 2.0],\n",
       " [-1.856613207, -0.698831465, 2.0],\n",
       " [-1.38871274, -0.674011314, 2.0],\n",
       " [0.02850845, -0.075163335, 2.0],\n",
       " [-1.239720321, -0.78470877, 2.0],\n",
       " [-1.451622767, -0.633750694, 2.0],\n",
       " [-1.979267221, -0.677849094, 2.0],\n",
       " [-2.133447286, 1.6890035, 2.0],\n",
       " [-0.977879107, -0.123931134, 2.0],\n",
       " [0.040239494, -1.876490013, 2.0],\n",
       " [0.231484088, -2.217446994, 2.0],\n",
       " [-0.439820579, -2.614839707, 2.0],\n",
       " [-1.30903867, 0.840080492, 2.0],\n",
       " [-1.367604084, -1.818925757, 2.0],\n",
       " [-0.634366635, -0.007864425, 2.0],\n",
       " [-0.0625613, -0.466182212, 2.0],\n",
       " [-0.025756298, -2.526727116, 2.0],\n",
       " [-3.118923984, 1.022859185, 2.0],\n",
       " [-1.046464742, -0.44770405, 2.0],\n",
       " [-1.966780905, 0.820142408, 2.0],\n",
       " [-1.471249024, -0.657355514, 2.0],\n",
       " [0.735227438, -0.820438514, 2.0],\n",
       " [-1.777530134, -2.019318258, 2.0],\n",
       " [-2.68379741, -0.962400535, 2.0],\n",
       " [-0.822972897, -0.862876698, 2.0],\n",
       " [-1.124477539, -2.521052262, 2.0],\n",
       " [-1.415554856, -1.018918453, 2.0],\n",
       " [-0.120541736, -0.836753322, 2.0],\n",
       " [-0.433871895, -1.721150679, 2.0],\n",
       " [-0.624083008, -0.589396641, 2.0],\n",
       " [-1.276953828, -2.212631093, 2.0],\n",
       " [-0.649901474, -1.573744692, 2.0],\n",
       " [-1.291307157, -0.894607808, 2.0],\n",
       " [3.951942892, 2.22086267, 0.0],\n",
       " [5.730569717, 3.146865381, 1.0],\n",
       " [4.371596477, 4.600689623, 1.0],\n",
       " [3.485988104, 5.436480626, 1.0],\n",
       " [6.613567952, 4.269563509, 1.0],\n",
       " [6.039303337, 4.14499667, 1.0],\n",
       " [5.989625741, 4.648855334, 1.0],\n",
       " [6.186645661, 8.595480962, 1.0],\n",
       " [6.748367662, 4.576277497, 1.0],\n",
       " [6.716238425, 4.243822227, 1.0],\n",
       " [5.058353716, 6.7328904, 1.0],\n",
       " [4.22010943, 4.155101237, 1.0],\n",
       " [4.808337705, 2.834357979, 1.0],\n",
       " [7.144034224, 5.614086814, 1.0],\n",
       " [2.925245443, 3.380115652, 0.0],\n",
       " [4.022441045, 4.350050329, 1.0],\n",
       " [6.807063521, 5.517710153, 1.0],\n",
       " [6.465317971, 5.39940756, 1.0],\n",
       " [4.141706131, 1.222944183, 0.0],\n",
       " [4.641781214, -0.091193854, 0.0],\n",
       " [4.73015313, 2.784619761, 1.0],\n",
       " [4.522996541, 6.861180403, 1.0],\n",
       " [0.768168376, 4.407158109, 0.0],\n",
       " [4.259855126, 3.737156474, 1.0],\n",
       " [5.535308292, 3.729993007, 1.0],\n",
       " [9.24625283, 5.798154028, 1.0],\n",
       " [2.466653985, 4.572414717, 1.0],\n",
       " [3.899209735, 4.824121253, 1.0],\n",
       " [4.332341441, 0.379144641, 0.0],\n",
       " [3.367927409, 3.698562852, 1.0],\n",
       " [3.832990752, 4.033234891, 1.0],\n",
       " [1.667111769, 2.510388945, 0.0],\n",
       " [4.805286947, 3.9602504, 1.0],\n",
       " [4.101915277, 2.956755898, 0.0],\n",
       " [5.926616878, 5.506714092, 1.0],\n",
       " [5.099433384, 3.01132382, 1.0],\n",
       " [6.846049468, 6.259771187, 1.0],\n",
       " [7.807198154, 3.926138031, 1.0],\n",
       " [5.21105679, 5.551104793, 1.0],\n",
       " [2.855650295, 7.957486741, 1.0],\n",
       " [5.422837908, 4.115748421, 1.0],\n",
       " [7.421854319, 6.588704854, 1.0],\n",
       " [4.834635336, 2.142437441, 0.0],\n",
       " [5.671382288, 7.158125544, 1.0],\n",
       " [3.326294053, 1.906939311, 0.0],\n",
       " [7.6139873, 3.886738434, 1.0],\n",
       " [5.69945536, 3.433902874, 1.0],\n",
       " [4.268829876, 2.0096126, 0.0],\n",
       " [2.100505144, 1.734405305, 0.0],\n",
       " [3.808989639, 5.119568133, 1.0]]"
      ]
     },
     "execution_count": 32,
     "metadata": {},
     "output_type": "execute_result"
    }
   ],
   "source": [
    "kmeans_result"
   ]
  },
  {
   "cell_type": "code",
   "execution_count": 33,
   "metadata": {
    "collapsed": false,
    "scrolled": true
   },
   "outputs": [
    {
     "data": {
      "text/plain": [
       "[-1.861331241, -2.991682765]"
      ]
     },
     "execution_count": 33,
     "metadata": {},
     "output_type": "execute_result"
    }
   ],
   "source": [
    "kmeans_result[0][0:2]"
   ]
  },
  {
   "cell_type": "code",
   "execution_count": 34,
   "metadata": {
    "collapsed": true
   },
   "outputs": [],
   "source": [
    "#initialize clusters according to kmeans result\n",
    "cluster0=[]\n",
    "cluster1=[]\n",
    "cluster2=[]\n",
    "for record in kmeans_result:\n",
    "    if record[2] == 0:\n",
    "        cluster0.append(record[0:2])\n",
    "    if record[2] == 1:\n",
    "        cluster1.append(record[0:2])\n",
    "    if record[2] == 2:\n",
    "        cluster2.append(record[0:2])"
   ]
  },
  {
   "cell_type": "code",
   "execution_count": 35,
   "metadata": {
    "collapsed": false
   },
   "outputs": [],
   "source": [
    "#covert list to array object\n",
    "cluster0 = np.array(cluster0)\n",
    "cluster1 = np.array(cluster1)\n",
    "cluster2 = np.array(cluster2)"
   ]
  },
  {
   "cell_type": "code",
   "execution_count": 80,
   "metadata": {
    "collapsed": false
   },
   "outputs": [
    {
     "data": {
      "text/plain": [
       "array([[ -1.86133124e+00,  -2.99168277e+00],\n",
       "       [ -2.17009237e+00,  -3.29231778e+00],\n",
       "       [ -1.01408097e+00,   3.85794990e-01],\n",
       "       [ -2.91294254e+00,  -2.57953917e+00],\n",
       "       [  3.57207350e-02,  -7.99697919e-01],\n",
       "       [ -5.57616974e-01,   1.84429997e+00],\n",
       "       [  3.62326849e-01,  -2.01912453e+00],\n",
       "       [ -3.54004402e-01,   6.50573081e-01],\n",
       "       [ -2.08813668e+00,   2.27884440e+00],\n",
       "       [ -2.06663381e+00,  -9.22130196e-01],\n",
       "       [  2.21526360e-02,  -2.65809723e+00],\n",
       "       [  6.47043958e-01,  -1.75000364e-01],\n",
       "       [ -8.88304367e-01,  -1.48627746e+00],\n",
       "       [ -4.26079398e+00,  -8.63383567e-01],\n",
       "       [ -2.40768200e+00,   1.55865636e+00],\n",
       "       [ -6.57288731e-01,   2.29660805e+00],\n",
       "       [ -8.53681790e-02,  -2.16991988e+00],\n",
       "       [ -2.91112663e+00,  -2.58692210e+00],\n",
       "       [ -2.03256531e+00,   3.85347997e+00],\n",
       "       [ -1.73295647e-01,   4.66503496e-01],\n",
       "       [  1.14139500e-03,  -1.09004470e+00],\n",
       "       [ -6.98691938e-01,   7.54273110e-01],\n",
       "       [ -2.03384110e+00,  -1.36037659e+00],\n",
       "       [  4.56105620e-01,  -3.53078475e+00],\n",
       "       [  8.38971758e-01,  -1.29126527e+00],\n",
       "       [ -1.39111649e+00,   9.05055556e-01],\n",
       "       [  2.69569161e-01,   1.22899644e+00],\n",
       "       [ -7.09719127e-01,  -1.57060131e+00],\n",
       "       [ -1.34093386e+00,   1.65635239e+00],\n",
       "       [ -4.41998312e-01,  -2.51001766e-01],\n",
       "       [ -1.29245167e+00,  -1.90245774e+00],\n",
       "       [ -1.69039920e+00,   1.78407999e+00],\n",
       "       [  2.71009047e-01,  -2.59443160e-01],\n",
       "       [ -2.01348513e+00,  -8.13921938e-01],\n",
       "       [ -7.47712984e-01,  -4.23400550e-01],\n",
       "       [ -4.76414674e-01,  -6.60342733e-01],\n",
       "       [ -2.46162963e+00,  -1.67282710e+00],\n",
       "       [  8.66405597e-01,  -1.53701369e+00],\n",
       "       [ -3.14905203e+00,  -2.04015775e+00],\n",
       "       [ -2.63523666e+00,  -2.71567500e-03],\n",
       "       [  2.24019127e-01,  -1.02605395e+00],\n",
       "       [ -6.74825989e-01,  -1.65699920e+00],\n",
       "       [ -1.42891304e+00,  -3.22254384e-01],\n",
       "       [ -9.88403911e-01,  -1.51083413e+00],\n",
       "       [ -2.68681527e-01,  -5.53995371e-01],\n",
       "       [ -1.86802276e+00,   5.16634610e-01],\n",
       "       [ -7.18404200e-02,  -6.22437230e-02],\n",
       "       [ -3.02683237e-01,  -1.16016268e+00],\n",
       "       [ -1.04515034e+00,  -1.11383812e+00],\n",
       "       [ -8.08788859e-01,   9.37126165e-01],\n",
       "       [ -1.62876296e+00,  -1.17079881e+00],\n",
       "       [ -1.85661321e+00,  -6.98831465e-01],\n",
       "       [ -1.38871274e+00,  -6.74011314e-01],\n",
       "       [  2.85084500e-02,  -7.51633350e-02],\n",
       "       [ -1.23972032e+00,  -7.84708770e-01],\n",
       "       [ -1.45162277e+00,  -6.33750694e-01],\n",
       "       [ -1.97926722e+00,  -6.77849094e-01],\n",
       "       [ -2.13344729e+00,   1.68900350e+00],\n",
       "       [ -9.77879107e-01,  -1.23931134e-01],\n",
       "       [  4.02394940e-02,  -1.87649001e+00],\n",
       "       [  2.31484088e-01,  -2.21744699e+00],\n",
       "       [ -4.39820579e-01,  -2.61483971e+00],\n",
       "       [ -1.30903867e+00,   8.40080492e-01],\n",
       "       [ -1.36760408e+00,  -1.81892576e+00],\n",
       "       [ -6.34366635e-01,  -7.86442500e-03],\n",
       "       [ -6.25613000e-02,  -4.66182212e-01],\n",
       "       [ -2.57562980e-02,  -2.52672712e+00],\n",
       "       [ -3.11892398e+00,   1.02285918e+00],\n",
       "       [ -1.04646474e+00,  -4.47704050e-01],\n",
       "       [ -1.96678091e+00,   8.20142408e-01],\n",
       "       [ -1.47124902e+00,  -6.57355514e-01],\n",
       "       [  7.35227438e-01,  -8.20438514e-01],\n",
       "       [ -1.77753013e+00,  -2.01931826e+00],\n",
       "       [ -2.68379741e+00,  -9.62400535e-01],\n",
       "       [ -8.22972897e-01,  -8.62876698e-01],\n",
       "       [ -1.12447754e+00,  -2.52105226e+00],\n",
       "       [ -1.41555486e+00,  -1.01891845e+00],\n",
       "       [ -1.20541736e-01,  -8.36753322e-01],\n",
       "       [ -4.33871895e-01,  -1.72115068e+00],\n",
       "       [ -6.24083008e-01,  -5.89396641e-01],\n",
       "       [ -1.27695383e+00,  -2.21263109e+00],\n",
       "       [ -6.49901474e-01,  -1.57374469e+00],\n",
       "       [ -1.29130716e+00,  -8.94607808e-01]])"
      ]
     },
     "execution_count": 80,
     "metadata": {},
     "output_type": "execute_result"
    }
   ],
   "source": [
    "cluster2"
   ]
  },
  {
   "cell_type": "code",
   "execution_count": 39,
   "metadata": {
    "collapsed": false
   },
   "outputs": [
    {
     "data": {
      "text/plain": [
       "array([[ 1.08402873, -0.16642449],\n",
       "       [-0.16642449,  1.96411905]])"
      ]
     },
     "execution_count": 39,
     "metadata": {},
     "output_type": "execute_result"
    }
   ],
   "source": [
    "np.cov(cluster2.T)"
   ]
  },
  {
   "cell_type": "code",
   "execution_count": 121,
   "metadata": {
    "collapsed": false
   },
   "outputs": [],
   "source": [
    "#calculate mean_of each cluster\n",
    "mean_cluster0 = np.mean(cluster0,axis=0)\n",
    "mean_cluster1 = np.mean(cluster1,axis=0)\n",
    "mean_cluster2 = np.mean(cluster2,axis=0)\n",
    "#calculate covariance_of each cluster\n",
    "cov_cluster0 = np.cov(cluster0.T)\n",
    "cov_cluster1 = np.cov(cluster1.T)\n",
    "cov_cluster2 = np.cov(cluster2.T)"
   ]
  },
  {
   "cell_type": "code",
   "execution_count": 119,
   "metadata": {
    "collapsed": false
   },
   "outputs": [
    {
     "data": {
      "text/plain": [
       "array([[ 1.36787965,  0.37379198],\n",
       "       [ 0.37379198,  0.50347858]])"
      ]
     },
     "execution_count": 119,
     "metadata": {},
     "output_type": "execute_result"
    }
   ],
   "source": [
    "np.cov(c0_data.T)"
   ]
  },
  {
   "cell_type": "code",
   "execution_count": 89,
   "metadata": {
    "collapsed": false
   },
   "outputs": [
    {
     "data": {
      "text/plain": [
       "array([ 2.88349711,  1.35826195])"
      ]
     },
     "execution_count": 89,
     "metadata": {},
     "output_type": "execute_result"
    }
   ],
   "source": [
    "cov_cluster = np.cov(np.array(data).T)\n",
    "mean_cluster0"
   ]
  },
  {
   "cell_type": "code",
   "execution_count": 90,
   "metadata": {
    "collapsed": false
   },
   "outputs": [
    {
     "data": {
      "text/plain": [
       "10755343071102796.0"
      ]
     },
     "execution_count": 90,
     "metadata": {},
     "output_type": "execute_result"
    }
   ],
   "source": [
    "gaussian_model(pi,mean_cluster0,cov_cluster0,[-1.861331241, -2.991682765])"
   ]
  },
  {
   "cell_type": "code",
   "execution_count": 96,
   "metadata": {
    "collapsed": false
   },
   "outputs": [
    {
     "data": {
      "text/plain": [
       "array([ 7.7323963 ,  8.83286129])"
      ]
     },
     "execution_count": 96,
     "metadata": {},
     "output_type": "execute_result"
    }
   ],
   "source": [
    "np.array([-1.861331241, -2.991682765]-mean_cluster0).dot(np.reciprocal(cov_cluster0))"
   ]
  },
  {
   "cell_type": "code",
   "execution_count": 102,
   "metadata": {
    "collapsed": false,
    "scrolled": true
   },
   "outputs": [
    {
     "data": {
      "text/plain": [
       "27.254674798780481"
      ]
     },
     "execution_count": 102,
     "metadata": {},
     "output_type": "execute_result"
    }
   ],
   "source": [
    "np.array([-1.861331241, -2.991682765]-mean_cluster0).T.dot(np.linalg.inv(cov_cluster0)).dot(np.array([-1.861331241, -2.991682765]-mean_cluster0))"
   ]
  },
  {
   "cell_type": "code",
   "execution_count": 98,
   "metadata": {
    "collapsed": false
   },
   "outputs": [
    {
     "data": {
      "text/plain": [
       "array([[ 0.51093565, -2.33490284],\n",
       "       [-2.33490284,  0.51629435]])"
      ]
     },
     "execution_count": 98,
     "metadata": {},
     "output_type": "execute_result"
    }
   ],
   "source": [
    "np.reciprocal(cov_cluster0)"
   ]
  },
  {
   "cell_type": "code",
   "execution_count": 101,
   "metadata": {
    "collapsed": false
   },
   "outputs": [
    {
     "data": {
      "text/plain": [
       "array([[ 0.5369152 ,  0.11872284],\n",
       "       [ 0.11872284,  0.54254638]])"
      ]
     },
     "execution_count": 101,
     "metadata": {},
     "output_type": "execute_result"
    }
   ],
   "source": [
    "np.linalg.inv(cov_cluster0)"
   ]
  },
  {
   "cell_type": "code",
   "execution_count": 120,
   "metadata": {
    "collapsed": false
   },
   "outputs": [],
   "source": [
    "def gaussian_model(mean,cov,x):\n",
    "    return np.linalg.det(cov)**(-0.5)*np.exp(-0.5*np.array(x-mean).dot(np.linalg.inv(cov)).dot(np.array(x-mean).T))"
   ]
  },
  {
   "cell_type": "code",
   "execution_count": 145,
   "metadata": {
    "collapsed": false,
    "scrolled": true
   },
   "outputs": [],
   "source": [
    "#rc:N*3 metrix\n",
    "\n",
    "initial_rc=[]\n",
    "for x in data:\n",
    "    temp=[]\n",
    "    denominator=gaussian_model(mean_cluster0,cov_cluster0,x)+gaussian_model(mean_cluster1,cov_cluster1,x)+gaussian_model(mean_cluster2,cov_cluster2,x)\n",
    "    temp.append(gaussian_model(mean_cluster0,cov_cluster0,x)/ denominator)\n",
    "    temp.append(gaussian_model(mean_cluster1,cov_cluster1,x)/ denominator)\n",
    "    temp.append(gaussian_model(mean_cluster2,cov_cluster2,x)/ denominator)\n",
    "    initial_rc.append(temp)\n",
    "initial_rc = np.array(initial_rc)"
   ]
  },
  {
   "cell_type": "code",
   "execution_count": 112,
   "metadata": {
    "collapsed": false
   },
   "outputs": [
    {
     "data": {
      "text/plain": [
       "array([ 0.2049107 ,  0.25092503,  0.54416426])"
      ]
     },
     "execution_count": 112,
     "metadata": {},
     "output_type": "execute_result"
    }
   ],
   "source": [
    "a = np.sum(rc,axis=0)/np.sum(rc)\n",
    "a"
   ]
  },
  {
   "cell_type": "code",
   "execution_count": 114,
   "metadata": {
    "collapsed": false
   },
   "outputs": [
    {
     "data": {
      "text/plain": [
       "20.122616118223572"
      ]
     },
     "execution_count": 114,
     "metadata": {},
     "output_type": "execute_result"
    }
   ],
   "source": [
    "#log likelyhood(initial)\n",
    "loglh=0\n",
    "for x in  data:\n",
    "    temp=a[0]*gaussian_model(pi,mean_cluster0,cov_cluster0,x)+a[1]*gaussian_model(pi,mean_cluster1,cov_cluster1,x)+a[2]*gaussian_model(pi,mean_cluster2,cov_cluster2,x)\n",
    "    loglh+=temp\n",
    "loglh"
   ]
  },
  {
   "cell_type": "code",
   "execution_count": 118,
   "metadata": {
    "collapsed": false
   },
   "outputs": [],
   "source": [
    "c0_data = []\n",
    "c1_data = []\n",
    "c2_data = []\n",
    "for index,x in enumerate(data):\n",
    "    c0_data.append(np.array(x)*np.array(rc)[:,0][index])\n",
    "np.mean(c0_data,axis=0)\n",
    "c0_data = np.array(c0_data)"
   ]
  },
  {
   "cell_type": "code",
   "execution_count": 66,
   "metadata": {
    "collapsed": false
   },
   "outputs": [
    {
     "data": {
      "text/plain": [
       "array([ 2.,  3.])"
      ]
     },
     "execution_count": 66,
     "metadata": {},
     "output_type": "execute_result"
    }
   ],
   "source": [
    "np.array(rc).T[0][1]*np.array([2,3])"
   ]
  },
  {
   "cell_type": "code",
   "execution_count": 155,
   "metadata": {
    "collapsed": true
   },
   "outputs": [],
   "source": [
    "def EM(initial_rc,iterations=100,diff_converge=0.001):\n",
    "    rc=initial_rc\n",
    "    diff = 100\n",
    "    old = [-1]\n",
    "    while (iterations and diff > 1):\n",
    "        print \"iteration:\"+ str(iterations)\n",
    "        \n",
    "        #E step\n",
    "        \n",
    "        #update rc\n",
    "        rc=[]\n",
    "        for x in data:\n",
    "            temp=[]\n",
    "            denominator=gaussian_model(mean_cluster0,cov_cluster0,x)+gaussian_model(mean_cluster1,cov_cluster1,x)+gaussian_model(mean_cluster2,cov_cluster2,x)\n",
    "            temp.append(gaussian_model(mean_cluster0,cov_cluster0,x)/ denominator)\n",
    "            temp.append(gaussian_model(mean_cluster1,cov_cluster1,x)/ denominator)\n",
    "            temp.append(gaussian_model(mean_cluster2,cov_cluster2,x)/ denominator)\n",
    "            rc.append(temp)\n",
    "        rc = np.array(rc)\n",
    "        \n",
    "        #M step\n",
    "    \n",
    "        c0_data=[]\n",
    "        c1_data=[]\n",
    "        c2_data=[]\n",
    "        for index,x in enumerate(data):\n",
    "            c0_data.append(np.array(x)*rc[:,0][index])\n",
    "            c1_data.append(np.array(x)*rc[:,1][index])\n",
    "            c2_data.append(np.array(x)*rc[:,2][index])\n",
    "        c0_data=np.array(c0_data)\n",
    "        c1_data=np.array(c1_data)\n",
    "        c2_data=np.array(c2_data)\n",
    "        mean_cluster0=np.mean(c0_data,axis=0)\n",
    "        mean_cluster1=np.mean(c1_data,axis=0)\n",
    "        mean_cluster2=np.mean(c2_data,axis=0)\n",
    "        cov_cluster0=np.cov(c0_data.T)\n",
    "        cov_cluster1=np.cov(c1_data.T)\n",
    "        cov_cluster2=np.cov(c2_data.T)\n",
    "        \n",
    "        #calculate loglikelyhood\n",
    "        a = np.sum(rc,axis=0)/np.sum(rc)\n",
    "        loglh=0\n",
    "        for x in  data:\n",
    "            log_temp=a[0]*gaussian_model(mean_cluster0,cov_cluster0,x)+a[1]*gaussian_model(mean_cluster1,cov_cluster1,x)+a[2]*gaussian_model(mean_cluster2,cov_cluster2,x)\n",
    "            loglh+=np.log(log_temp)\n",
    "        print \"log likelyhood: \"+str(loglh)\n",
    "        diff = abs(old.pop()-loglh)\n",
    "        old.append(loglh)\n",
    "        print \"log likelyhood diff : \"+str(diff)\n",
    "        iterations=iterations-1\n",
    "        "
   ]
  },
  {
   "cell_type": "code",
   "execution_count": 156,
   "metadata": {
    "collapsed": false
   },
   "outputs": [
    {
     "name": "stdout",
     "output_type": "stream",
     "text": [
      "iteration:100\n",
      "log likelyhood: -518.456436174\n",
      "log likelyhood diff : 517.456436174\n",
      "iteration:99\n",
      "log likelyhood: -498.150407974\n",
      "log likelyhood diff : 20.3060282006\n",
      "iteration:98\n",
      "log likelyhood: -441.542366519\n",
      "log likelyhood diff : 56.608041455\n",
      "iteration:97\n",
      "log likelyhood: -421.255522998\n",
      "log likelyhood diff : 20.286843521\n",
      "iteration:96\n",
      "log likelyhood: -410.195078531\n",
      "log likelyhood diff : 11.0604444666\n",
      "iteration:95\n"
     ]
    },
    {
     "name": "stderr",
     "output_type": "stream",
     "text": [
      "/Library/Python/2.7/site-packages/ipykernel/__main__.py:2: RuntimeWarning: divide by zero encountered in double_scalars\n",
      "  from ipykernel import kernelapp as app\n"
     ]
    },
    {
     "ename": "LinAlgError",
     "evalue": "Singular matrix",
     "output_type": "error",
     "traceback": [
      "\u001b[0;31m---------------------------------------------------------------------------\u001b[0m",
      "\u001b[0;31mLinAlgError\u001b[0m                               Traceback (most recent call last)",
      "\u001b[0;32m<ipython-input-156-eaffcb1094c3>\u001b[0m in \u001b[0;36m<module>\u001b[0;34m()\u001b[0m\n\u001b[0;32m----> 1\u001b[0;31m \u001b[0mEM\u001b[0m\u001b[0;34m(\u001b[0m\u001b[0minitial_rc\u001b[0m\u001b[0;34m)\u001b[0m\u001b[0;34m\u001b[0m\u001b[0m\n\u001b[0m",
      "\u001b[0;32m<ipython-input-155-eeaf9cb2a755>\u001b[0m in \u001b[0;36mEM\u001b[0;34m(initial_rc, iterations, diff_converge)\u001b[0m\n\u001b[1;32m     26\u001b[0m         \u001b[0mloglh\u001b[0m\u001b[0;34m=\u001b[0m\u001b[0;36m0\u001b[0m\u001b[0;34m\u001b[0m\u001b[0m\n\u001b[1;32m     27\u001b[0m         \u001b[0;32mfor\u001b[0m \u001b[0mx\u001b[0m \u001b[0;32min\u001b[0m  \u001b[0mdata\u001b[0m\u001b[0;34m:\u001b[0m\u001b[0;34m\u001b[0m\u001b[0m\n\u001b[0;32m---> 28\u001b[0;31m             \u001b[0mlog_temp\u001b[0m\u001b[0;34m=\u001b[0m\u001b[0ma\u001b[0m\u001b[0;34m[\u001b[0m\u001b[0;36m0\u001b[0m\u001b[0;34m]\u001b[0m\u001b[0;34m*\u001b[0m\u001b[0mgaussian_model\u001b[0m\u001b[0;34m(\u001b[0m\u001b[0mmean_cluster0\u001b[0m\u001b[0;34m,\u001b[0m\u001b[0mcov_cluster0\u001b[0m\u001b[0;34m,\u001b[0m\u001b[0mx\u001b[0m\u001b[0;34m)\u001b[0m\u001b[0;34m+\u001b[0m\u001b[0ma\u001b[0m\u001b[0;34m[\u001b[0m\u001b[0;36m1\u001b[0m\u001b[0;34m]\u001b[0m\u001b[0;34m*\u001b[0m\u001b[0mgaussian_model\u001b[0m\u001b[0;34m(\u001b[0m\u001b[0mmean_cluster1\u001b[0m\u001b[0;34m,\u001b[0m\u001b[0mcov_cluster1\u001b[0m\u001b[0;34m,\u001b[0m\u001b[0mx\u001b[0m\u001b[0;34m)\u001b[0m\u001b[0;34m+\u001b[0m\u001b[0ma\u001b[0m\u001b[0;34m[\u001b[0m\u001b[0;36m2\u001b[0m\u001b[0;34m]\u001b[0m\u001b[0;34m*\u001b[0m\u001b[0mgaussian_model\u001b[0m\u001b[0;34m(\u001b[0m\u001b[0mmean_cluster2\u001b[0m\u001b[0;34m,\u001b[0m\u001b[0mcov_cluster2\u001b[0m\u001b[0;34m,\u001b[0m\u001b[0mx\u001b[0m\u001b[0;34m)\u001b[0m\u001b[0;34m\u001b[0m\u001b[0m\n\u001b[0m\u001b[1;32m     29\u001b[0m             \u001b[0mloglh\u001b[0m\u001b[0;34m+=\u001b[0m\u001b[0mnp\u001b[0m\u001b[0;34m.\u001b[0m\u001b[0mlog\u001b[0m\u001b[0;34m(\u001b[0m\u001b[0mlog_temp\u001b[0m\u001b[0;34m)\u001b[0m\u001b[0;34m\u001b[0m\u001b[0m\n\u001b[1;32m     30\u001b[0m         \u001b[0;32mprint\u001b[0m \u001b[0;34m\"log likelyhood: \"\u001b[0m\u001b[0;34m+\u001b[0m\u001b[0mstr\u001b[0m\u001b[0;34m(\u001b[0m\u001b[0mloglh\u001b[0m\u001b[0;34m)\u001b[0m\u001b[0;34m\u001b[0m\u001b[0m\n",
      "\u001b[0;32m<ipython-input-120-f09f8e703215>\u001b[0m in \u001b[0;36mgaussian_model\u001b[0;34m(mean, cov, x)\u001b[0m\n\u001b[1;32m      1\u001b[0m \u001b[0;32mdef\u001b[0m \u001b[0mgaussian_model\u001b[0m\u001b[0;34m(\u001b[0m\u001b[0mmean\u001b[0m\u001b[0;34m,\u001b[0m\u001b[0mcov\u001b[0m\u001b[0;34m,\u001b[0m\u001b[0mx\u001b[0m\u001b[0;34m)\u001b[0m\u001b[0;34m:\u001b[0m\u001b[0;34m\u001b[0m\u001b[0m\n\u001b[0;32m----> 2\u001b[0;31m     \u001b[0;32mreturn\u001b[0m \u001b[0mnp\u001b[0m\u001b[0;34m.\u001b[0m\u001b[0mlinalg\u001b[0m\u001b[0;34m.\u001b[0m\u001b[0mdet\u001b[0m\u001b[0;34m(\u001b[0m\u001b[0mcov\u001b[0m\u001b[0;34m)\u001b[0m\u001b[0;34m**\u001b[0m\u001b[0;34m(\u001b[0m\u001b[0;34m-\u001b[0m\u001b[0;36m0.5\u001b[0m\u001b[0;34m)\u001b[0m\u001b[0;34m*\u001b[0m\u001b[0mnp\u001b[0m\u001b[0;34m.\u001b[0m\u001b[0mexp\u001b[0m\u001b[0;34m(\u001b[0m\u001b[0;34m-\u001b[0m\u001b[0;36m0.5\u001b[0m\u001b[0;34m*\u001b[0m\u001b[0mnp\u001b[0m\u001b[0;34m.\u001b[0m\u001b[0marray\u001b[0m\u001b[0;34m(\u001b[0m\u001b[0mx\u001b[0m\u001b[0;34m-\u001b[0m\u001b[0mmean\u001b[0m\u001b[0;34m)\u001b[0m\u001b[0;34m.\u001b[0m\u001b[0mdot\u001b[0m\u001b[0;34m(\u001b[0m\u001b[0mnp\u001b[0m\u001b[0;34m.\u001b[0m\u001b[0mlinalg\u001b[0m\u001b[0;34m.\u001b[0m\u001b[0minv\u001b[0m\u001b[0;34m(\u001b[0m\u001b[0mcov\u001b[0m\u001b[0;34m)\u001b[0m\u001b[0;34m)\u001b[0m\u001b[0;34m.\u001b[0m\u001b[0mdot\u001b[0m\u001b[0;34m(\u001b[0m\u001b[0mnp\u001b[0m\u001b[0;34m.\u001b[0m\u001b[0marray\u001b[0m\u001b[0;34m(\u001b[0m\u001b[0mx\u001b[0m\u001b[0;34m-\u001b[0m\u001b[0mmean\u001b[0m\u001b[0;34m)\u001b[0m\u001b[0;34m.\u001b[0m\u001b[0mT\u001b[0m\u001b[0;34m)\u001b[0m\u001b[0;34m)\u001b[0m\u001b[0;34m\u001b[0m\u001b[0m\n\u001b[0m",
      "\u001b[0;32m/System/Library/Frameworks/Python.framework/Versions/2.7/Extras/lib/python/numpy/linalg/linalg.pyc\u001b[0m in \u001b[0;36minv\u001b[0;34m(a)\u001b[0m\n\u001b[1;32m    517\u001b[0m     \u001b[0msignature\u001b[0m \u001b[0;34m=\u001b[0m \u001b[0;34m'D->D'\u001b[0m \u001b[0;32mif\u001b[0m \u001b[0misComplexType\u001b[0m\u001b[0;34m(\u001b[0m\u001b[0mt\u001b[0m\u001b[0;34m)\u001b[0m \u001b[0;32melse\u001b[0m \u001b[0;34m'd->d'\u001b[0m\u001b[0;34m\u001b[0m\u001b[0m\n\u001b[1;32m    518\u001b[0m     \u001b[0mextobj\u001b[0m \u001b[0;34m=\u001b[0m \u001b[0mget_linalg_error_extobj\u001b[0m\u001b[0;34m(\u001b[0m\u001b[0m_raise_linalgerror_singular\u001b[0m\u001b[0;34m)\u001b[0m\u001b[0;34m\u001b[0m\u001b[0m\n\u001b[0;32m--> 519\u001b[0;31m     \u001b[0mainv\u001b[0m \u001b[0;34m=\u001b[0m \u001b[0m_umath_linalg\u001b[0m\u001b[0;34m.\u001b[0m\u001b[0minv\u001b[0m\u001b[0;34m(\u001b[0m\u001b[0ma\u001b[0m\u001b[0;34m,\u001b[0m \u001b[0msignature\u001b[0m\u001b[0;34m=\u001b[0m\u001b[0msignature\u001b[0m\u001b[0;34m,\u001b[0m \u001b[0mextobj\u001b[0m\u001b[0;34m=\u001b[0m\u001b[0mextobj\u001b[0m\u001b[0;34m)\u001b[0m\u001b[0;34m\u001b[0m\u001b[0m\n\u001b[0m\u001b[1;32m    520\u001b[0m     \u001b[0;32mreturn\u001b[0m \u001b[0mwrap\u001b[0m\u001b[0;34m(\u001b[0m\u001b[0mainv\u001b[0m\u001b[0;34m.\u001b[0m\u001b[0mastype\u001b[0m\u001b[0;34m(\u001b[0m\u001b[0mresult_t\u001b[0m\u001b[0;34m)\u001b[0m\u001b[0;34m)\u001b[0m\u001b[0;34m\u001b[0m\u001b[0m\n\u001b[1;32m    521\u001b[0m \u001b[0;34m\u001b[0m\u001b[0m\n",
      "\u001b[0;32m/System/Library/Frameworks/Python.framework/Versions/2.7/Extras/lib/python/numpy/linalg/linalg.pyc\u001b[0m in \u001b[0;36m_raise_linalgerror_singular\u001b[0;34m(err, flag)\u001b[0m\n\u001b[1;32m     88\u001b[0m \u001b[0;34m\u001b[0m\u001b[0m\n\u001b[1;32m     89\u001b[0m \u001b[0;32mdef\u001b[0m \u001b[0m_raise_linalgerror_singular\u001b[0m\u001b[0;34m(\u001b[0m\u001b[0merr\u001b[0m\u001b[0;34m,\u001b[0m \u001b[0mflag\u001b[0m\u001b[0;34m)\u001b[0m\u001b[0;34m:\u001b[0m\u001b[0;34m\u001b[0m\u001b[0m\n\u001b[0;32m---> 90\u001b[0;31m     \u001b[0;32mraise\u001b[0m \u001b[0mLinAlgError\u001b[0m\u001b[0;34m(\u001b[0m\u001b[0;34m\"Singular matrix\"\u001b[0m\u001b[0;34m)\u001b[0m\u001b[0;34m\u001b[0m\u001b[0m\n\u001b[0m\u001b[1;32m     91\u001b[0m \u001b[0;34m\u001b[0m\u001b[0m\n\u001b[1;32m     92\u001b[0m \u001b[0;32mdef\u001b[0m \u001b[0m_raise_linalgerror_nonposdef\u001b[0m\u001b[0;34m(\u001b[0m\u001b[0merr\u001b[0m\u001b[0;34m,\u001b[0m \u001b[0mflag\u001b[0m\u001b[0;34m)\u001b[0m\u001b[0;34m:\u001b[0m\u001b[0;34m\u001b[0m\u001b[0m\n",
      "\u001b[0;31mLinAlgError\u001b[0m: Singular matrix"
     ]
    }
   ],
   "source": [
    "EM(initial_rc)"
   ]
  },
  {
   "cell_type": "code",
   "execution_count": null,
   "metadata": {
    "collapsed": true
   },
   "outputs": [],
   "source": []
  }
 ],
 "metadata": {
  "kernelspec": {
   "display_name": "Python 2",
   "language": "python",
   "name": "python2"
  },
  "language_info": {
   "codemirror_mode": {
    "name": "ipython",
    "version": 2
   },
   "file_extension": ".py",
   "mimetype": "text/x-python",
   "name": "python",
   "nbconvert_exporter": "python",
   "pygments_lexer": "ipython2",
   "version": "2.7.10"
  }
 },
 "nbformat": 4,
 "nbformat_minor": 0
}
