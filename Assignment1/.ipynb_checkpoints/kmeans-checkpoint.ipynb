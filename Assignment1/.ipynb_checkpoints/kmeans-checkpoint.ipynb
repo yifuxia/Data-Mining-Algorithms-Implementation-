{
 "cells": [
  {
   "cell_type": "markdown",
   "metadata": {},
   "source": [
    "<h1 style=\"font-size: 40px;color: black;margin-bottom: 20px\">K-means implementation</h1>\n",
    "<div style=\"\">\n",
    "    <span style=\"font-size: 15px;margin-left: 0px\">By:  Yifu Xia</span>\n",
    "    <span style=\"font-size: 15px;margin-left: 10px\">USCID:  8705-5017-28</span>\n",
    "    <span style=\"font-size: 15px;margin-left: 10px\">Date:  02/08/2016</span>\n",
    "</div>\n",
    "</h1>"
   ]
  },
  {
   "cell_type": "markdown",
   "metadata": {},
   "source": [
    "<h1>PART I</h1>\n",
    "<h2>Data</h2>"
   ]
  },
  {
   "cell_type": "code",
   "execution_count": 4,
   "metadata": {
    "collapsed": false
   },
   "outputs": [],
   "source": [
    "import csv\n",
    "import random\n",
    "import math\n",
    "from matplotlib import pyplot as plt\n",
    "from IPython.display import Image\n",
    "\n",
    "#parse data from file\n",
    "data = []\n",
    "with open('clusters.txt') as csvfile:\n",
    "    points = csv.reader(csvfile,delimiter=',')\n",
    "    for point_str in points:\n",
    "        data.append([float(point_str[0]),float(point_str[1])])"
   ]
  },
  {
   "cell_type": "code",
   "execution_count": 5,
   "metadata": {
    "collapsed": false,
    "scrolled": false
   },
   "outputs": [],
   "source": [
    "#data visualization\n",
    "for point in data:\n",
    "    plt.scatter(point[0],point[1],c='grey')\n",
    "plt.show()\n"
   ]
  },
  {
   "cell_type": "markdown",
   "metadata": {},
   "source": [
    "<h1>PART II</h1>\n",
    "<h2>Code</h2>"
   ]
  },
  {
   "cell_type": "code",
   "execution_count": 6,
   "metadata": {
    "collapsed": false
   },
   "outputs": [],
   "source": [
    "def kmeans(data, k,measure):\n",
    "    # Initialize centroids randomly\n",
    "    num_features = len(data[0])\n",
    "    centroids = generate_centroids(k,num_features)\n",
    "    \n",
    "    # Initialize book keeping vars.\n",
    "    iterations = 0\n",
    "    old_centroids = None\n",
    "    \n",
    "    # Run the main k-means algorithm\n",
    "    while not should_stop(old_centroids, centroids, iterations):\n",
    "        # Save old centroids for convergence test. Book keeping.\n",
    "        old_centroids = centroids\n",
    "        iterations += 1\n",
    "        \n",
    "        # Assign labels to each datapoint based on centroids\n",
    "        labels = get_labels(data, centroids,measure)\n",
    "        # Assign centroids based on datapoint labels\n",
    "        centroids = get_centroids(data, labels)\n",
    "        \n",
    "    # We can get the labels too by calling getLabels(dataSet, centroids)\n",
    "    print 'done!'\n",
    "    print 'in '+ str(iterations) + ' iterations!\\n'\n",
    "    return centroids"
   ]
  },
  {
   "cell_type": "code",
   "execution_count": 7,
   "metadata": {
    "collapsed": false
   },
   "outputs": [],
   "source": [
    "def generate_centroids(k,num_features):\n",
    "    centroids = []\n",
    "    for i in range(k):\n",
    "        centroid = []\n",
    "        for j in range(num_features):\n",
    "            centroid.append(random.uniform(-10,10))\n",
    "        centroids.append(centroid)\n",
    "    return centroids"
   ]
  },
  {
   "cell_type": "code",
   "execution_count": 8,
   "metadata": {
    "collapsed": true
   },
   "outputs": [],
   "source": [
    "def should_stop(old_centroids, centroids, iterations):\n",
    "    if iterations > 100: return True\n",
    "    return old_centroids == centroids"
   ]
  },
  {
   "cell_type": "code",
   "execution_count": 9,
   "metadata": {
    "collapsed": false
   },
   "outputs": [],
   "source": [
    "def get_labels(data,centroids,measure):\n",
    "    # For each element in the dataset, chose the closest centroid. \n",
    "    labels = []\n",
    "    for point in data:\n",
    "        min_distance = 1000\n",
    "        label = -1\n",
    "        for x in range(len(centroids)):\n",
    "            if get_distance(point,centroids[x],measure) < min_distance:\n",
    "                min_distance = get_distance(point,centroids[x],measure)\n",
    "                label = x\n",
    "        labels.append(label)\n",
    "    \n",
    "    if (len(set(labels)) == len(centroids)):\n",
    "        return labels\n",
    "    else:\n",
    "        centroids = generate_centroids(len(centroids),len(centroids[0]))\n",
    "        #bug fixed\n",
    "        return get_labels(data, centroids,measure)"
   ]
  },
  {
   "cell_type": "code",
   "execution_count": 10,
   "metadata": {
    "collapsed": true
   },
   "outputs": [],
   "source": [
    "def get_distance(point,centroid,measure):\n",
    "    distance = 0\n",
    "    if measure == 'l1':\n",
    "        for i in range(len(point)):\n",
    "            distance += abs(point[i] - centroid[i])\n",
    "        return distance\n",
    "    if measure == 'l2':\n",
    "        for i in range(len(point)):\n",
    "            distance += (point[i] - centroid[i])**2\n",
    "        return math.sqrt(distance)"
   ]
  },
  {
   "cell_type": "code",
   "execution_count": 11,
   "metadata": {
    "collapsed": true
   },
   "outputs": [],
   "source": [
    "def get_centroids(data, labels):\n",
    "    # Each centroid is the geometric mean of the points that\n",
    "    # have that centroid's label. Important: If a centroid is empty (no points have\n",
    "    # that centroid's label) you should randomly re-initialize it.\n",
    "    new_centroids=[]\n",
    "    for unique_label in set(labels):\n",
    "        new_centroid = [0 for x in range(len(data[0]))]\n",
    "        instance_number = 0\n",
    "        for i in range(len(labels)):\n",
    "            if labels[i] == unique_label:\n",
    "                for j in range(len(data[0])):\n",
    "                    new_centroid[j] += data[i][j]\n",
    "                instance_number += 1  \n",
    "        updated_centroid = [x / instance_number for x in new_centroid]\n",
    "        new_centroids.append(updated_centroid)\n",
    "    return new_centroids"
   ]
  },
  {
   "cell_type": "markdown",
   "metadata": {},
   "source": [
    "<h1>PART III</h1>\n",
    "<h2>Result</h2>"
   ]
  },
  {
   "cell_type": "code",
   "execution_count": 12,
   "metadata": {
    "collapsed": true
   },
   "outputs": [],
   "source": [
    "#run kmeans"
   ]
  },
  {
   "cell_type": "code",
   "execution_count": 13,
   "metadata": {
    "collapsed": false
   },
   "outputs": [
    {
     "ename": "NameError",
     "evalue": "name 'gmm_centroids' is not defined",
     "output_type": "error",
     "traceback": [
      "\u001b[0;31m---------------------------------------------------------------------------\u001b[0m",
      "\u001b[0;31mNameError\u001b[0m                                 Traceback (most recent call last)",
      "\u001b[0;32m<ipython-input-13-d56aed155edd>\u001b[0m in \u001b[0;36m<module>\u001b[0;34m()\u001b[0m\n\u001b[0;32m----> 1\u001b[0;31m \u001b[0mgmm_labels\u001b[0m \u001b[0;34m=\u001b[0m \u001b[0mget_labels\u001b[0m\u001b[0;34m(\u001b[0m\u001b[0mdata\u001b[0m\u001b[0;34m,\u001b[0m\u001b[0mgmm_centroids\u001b[0m\u001b[0;34m,\u001b[0m\u001b[0;34m\"l2\"\u001b[0m\u001b[0;34m)\u001b[0m\u001b[0;34m\u001b[0m\u001b[0m\n\u001b[0m",
      "\u001b[0;31mNameError\u001b[0m: name 'gmm_centroids' is not defined"
     ]
    }
   ],
   "source": [
    "gmm_labels = get_labels(data,gmm_centroids,\"l2\")"
   ]
  },
  {
   "cell_type": "code",
   "execution_count": 14,
   "metadata": {
    "collapsed": false
   },
   "outputs": [
    {
     "data": {
      "text/plain": [
       "[2,\n",
       " 2,\n",
       " 2,\n",
       " 2,\n",
       " 2,\n",
       " 1,\n",
       " 2,\n",
       " 1,\n",
       " 2,\n",
       " 1,\n",
       " 2,\n",
       " 1,\n",
       " 1,\n",
       " 1,\n",
       " 2,\n",
       " 1,\n",
       " 2,\n",
       " 2,\n",
       " 2,\n",
       " 1,\n",
       " 2,\n",
       " 2,\n",
       " 1,\n",
       " 2,\n",
       " 2,\n",
       " 1,\n",
       " 2,\n",
       " 2,\n",
       " 1,\n",
       " 1,\n",
       " 2,\n",
       " 2,\n",
       " 2,\n",
       " 2,\n",
       " 1,\n",
       " 2,\n",
       " 1,\n",
       " 2,\n",
       " 2,\n",
       " 2,\n",
       " 2,\n",
       " 2,\n",
       " 2,\n",
       " 2,\n",
       " 2,\n",
       " 1,\n",
       " 2,\n",
       " 2,\n",
       " 2,\n",
       " 2,\n",
       " 2,\n",
       " 2,\n",
       " 2,\n",
       " 2,\n",
       " 2,\n",
       " 2,\n",
       " 2,\n",
       " 2,\n",
       " 2,\n",
       " 2,\n",
       " 2,\n",
       " 2,\n",
       " 2,\n",
       " 2,\n",
       " 2,\n",
       " 2,\n",
       " 2,\n",
       " 2,\n",
       " 2,\n",
       " 2,\n",
       " 2,\n",
       " 2,\n",
       " 2,\n",
       " 2,\n",
       " 2,\n",
       " 2,\n",
       " 2,\n",
       " 2,\n",
       " 2,\n",
       " 2,\n",
       " 2,\n",
       " 2,\n",
       " 2,\n",
       " 2,\n",
       " 2,\n",
       " 2,\n",
       " 2,\n",
       " 2,\n",
       " 2,\n",
       " 2,\n",
       " 2,\n",
       " 2,\n",
       " 2,\n",
       " 2,\n",
       " 2,\n",
       " 2,\n",
       " 2,\n",
       " 2,\n",
       " 2,\n",
       " 2,\n",
       " 1,\n",
       " 0,\n",
       " 0,\n",
       " 0,\n",
       " 0,\n",
       " 0,\n",
       " 0,\n",
       " 0,\n",
       " 0,\n",
       " 0,\n",
       " 0,\n",
       " 0,\n",
       " 1,\n",
       " 0,\n",
       " 1,\n",
       " 0,\n",
       " 0,\n",
       " 0,\n",
       " 1,\n",
       " 1,\n",
       " 1,\n",
       " 0,\n",
       " 1,\n",
       " 0,\n",
       " 0,\n",
       " 0,\n",
       " 1,\n",
       " 0,\n",
       " 1,\n",
       " 1,\n",
       " 0,\n",
       " 1,\n",
       " 0,\n",
       " 1,\n",
       " 0,\n",
       " 0,\n",
       " 0,\n",
       " 0,\n",
       " 0,\n",
       " 0,\n",
       " 0,\n",
       " 0,\n",
       " 1,\n",
       " 0,\n",
       " 1,\n",
       " 0,\n",
       " 0,\n",
       " 1,\n",
       " 1,\n",
       " 0]"
      ]
     },
     "execution_count": 14,
     "metadata": {},
     "output_type": "execute_result"
    }
   ],
   "source": [
    "gmm_labels"
   ]
  },
  {
   "cell_type": "code",
   "execution_count": 12,
   "metadata": {
    "collapsed": false,
    "scrolled": true
   },
   "outputs": [
    {
     "name": "stdout",
     "output_type": "stream",
     "text": [
      "done!\n",
      "in 5 iterations!\n",
      "\n"
     ]
    }
   ],
   "source": [
    "gmm_centroids = kmeans(data,3,'l2')"
   ]
  },
  {
   "cell_type": "code",
   "execution_count": 21,
   "metadata": {
    "collapsed": false
   },
   "outputs": [
    {
     "data": {
      "text/plain": [
       "(150,)"
      ]
     },
     "execution_count": 21,
     "metadata": {},
     "output_type": "execute_result"
    }
   ],
   "source": [
    "gmm_labels.shape"
   ]
  },
  {
   "cell_type": "code",
   "execution_count": 22,
   "metadata": {
    "collapsed": false
   },
   "outputs": [],
   "source": [
    "import numpy as np\n",
    "data = np.array(data)\n",
    "gmm_labels = np.array(gmm_labels).reshape(150,1)\n",
    "output_gmm = np.append(data,gmm_labels, axis=1)"
   ]
  },
  {
   "cell_type": "code",
   "execution_count": 27,
   "metadata": {
    "collapsed": false
   },
   "outputs": [],
   "source": [
    "np.set_printoptions(suppress=True)\n",
    "output_gmm\n",
    "np.savetxt(\"kmeans_result\",output_gmm,delimiter=',')"
   ]
  },
  {
   "cell_type": "code",
   "execution_count": 26,
   "metadata": {
    "collapsed": false
   },
   "outputs": [
    {
     "data": {
      "text/plain": [
       "array([[-1.86133124, -2.99168277,  2.        ],\n",
       "       [-2.17009237, -3.29231778,  2.        ],\n",
       "       [-1.01408097,  0.38579499,  2.        ],\n",
       "       [-2.91294254, -2.57953917,  2.        ],\n",
       "       [ 0.03572074, -0.79969792,  2.        ],\n",
       "       [ 2.48350942,  1.55080609,  1.        ],\n",
       "       [-0.55761697,  1.84429997,  2.        ],\n",
       "       [ 1.10842255,  3.08907169,  1.        ],\n",
       "       [ 0.36232685, -2.01912453,  2.        ],\n",
       "       [ 2.7097141 ,  1.71341276,  1.        ],\n",
       "       [-0.3540044 ,  0.65057308,  2.        ],\n",
       "       [ 0.65510315,  2.50487751,  1.        ],\n",
       "       [ 5.51797714,  0.44031717,  1.        ],\n",
       "       [ 2.56305662,  1.63039337,  1.        ],\n",
       "       [-2.08813668,  2.2788444 ,  2.        ],\n",
       "       [ 2.50393116, -0.82342191,  1.        ],\n",
       "       [-2.06663381, -0.9221302 ,  2.        ],\n",
       "       [ 0.02215264, -2.65809723,  2.        ],\n",
       "       [ 0.64704396, -0.17500036,  2.        ],\n",
       "       [ 1.94538595,  0.71089197,  1.        ],\n",
       "       [-0.88830437, -1.48627746,  2.        ],\n",
       "       [ 1.20268655,  0.14406137,  2.        ],\n",
       "       [ 3.95725154, -0.71280672,  1.        ],\n",
       "       [-4.26079398, -0.86338357,  2.        ],\n",
       "       [-2.407682  ,  1.55865636,  2.        ],\n",
       "       [ 2.67196907,  1.63264915,  1.        ],\n",
       "       [-0.65728873,  2.29660805,  2.        ],\n",
       "       [-0.08536818, -2.16991988,  2.        ],\n",
       "       [ 2.0659805 , -0.27224455,  1.        ],\n",
       "       [ 4.97091584,  1.31018345,  1.        ],\n",
       "       [-2.91112663, -2.5869221 ,  2.        ],\n",
       "       [-2.03256531,  3.85347997,  2.        ],\n",
       "       [-0.17329565,  0.4665035 ,  2.        ],\n",
       "       [ 0.00114139, -1.0900447 ,  2.        ],\n",
       "       [ 0.23893603,  2.06562499,  1.        ],\n",
       "       [-0.69869194,  0.75427311,  2.        ],\n",
       "       [ 2.72721289,  0.21851067,  1.        ],\n",
       "       [-2.0338411 , -1.36037659,  2.        ],\n",
       "       [ 0.45610562, -3.53078475,  2.        ],\n",
       "       [ 2.21314257, -1.92713545,  2.        ],\n",
       "       [ 0.83897176, -1.29126527,  2.        ],\n",
       "       [-1.39111649,  0.90505556,  2.        ],\n",
       "       [ 0.26956916,  1.22899644,  2.        ],\n",
       "       [-0.70971913, -1.57060131,  2.        ],\n",
       "       [-1.34093386,  1.65635239,  2.        ],\n",
       "       [ 3.02574413,  1.33483402,  1.        ],\n",
       "       [-0.44199831, -0.25100177,  2.        ],\n",
       "       [-1.29245167, -1.90245774,  2.        ],\n",
       "       [-1.6903992 ,  1.78407999,  2.        ],\n",
       "       [ 0.27100905, -0.25944316,  2.        ],\n",
       "       [-2.01348513, -0.81392194,  2.        ],\n",
       "       [-0.74771298, -0.42340055,  2.        ],\n",
       "       [-0.47641467, -0.66034273,  2.        ],\n",
       "       [-2.46162963, -1.6728271 ,  2.        ],\n",
       "       [ 0.8664056 , -1.53701369,  2.        ],\n",
       "       [-3.14905203, -2.04015775,  2.        ],\n",
       "       [-2.63523666, -0.00271567,  2.        ],\n",
       "       [ 0.22401913, -1.02605395,  2.        ],\n",
       "       [-0.67482599, -1.6569992 ,  2.        ],\n",
       "       [-1.42891304, -0.32225438,  2.        ],\n",
       "       [-0.98840391, -1.51083413,  2.        ],\n",
       "       [-0.26868153, -0.55399537,  2.        ],\n",
       "       [-1.86802276,  0.51663461,  2.        ],\n",
       "       [-0.07184042, -0.06224372,  2.        ],\n",
       "       [-0.30268324, -1.16016268,  2.        ],\n",
       "       [-1.04515034, -1.11383812,  2.        ],\n",
       "       [-0.80878886,  0.93712617,  2.        ],\n",
       "       [-1.62876296, -1.17079881,  2.        ],\n",
       "       [-1.85661321, -0.69883147,  2.        ],\n",
       "       [-1.38871274, -0.67401131,  2.        ],\n",
       "       [ 0.02850845, -0.07516333,  2.        ],\n",
       "       [-1.23972032, -0.78470877,  2.        ],\n",
       "       [-1.45162277, -0.63375069,  2.        ],\n",
       "       [-1.97926722, -0.67784909,  2.        ],\n",
       "       [-2.13344729,  1.6890035 ,  2.        ],\n",
       "       [-0.97787911, -0.12393113,  2.        ],\n",
       "       [ 0.04023949, -1.87649001,  2.        ],\n",
       "       [ 0.23148409, -2.21744699,  2.        ],\n",
       "       [-0.43982058, -2.61483971,  2.        ],\n",
       "       [-1.30903867,  0.84008049,  2.        ],\n",
       "       [-1.36760408, -1.81892576,  2.        ],\n",
       "       [-0.63436664, -0.00786442,  2.        ],\n",
       "       [-0.0625613 , -0.46618221,  2.        ],\n",
       "       [-0.0257563 , -2.52672712,  2.        ],\n",
       "       [-3.11892398,  1.02285918,  2.        ],\n",
       "       [-1.04646474, -0.44770405,  2.        ],\n",
       "       [-1.96678091,  0.82014241,  2.        ],\n",
       "       [-1.47124902, -0.65735551,  2.        ],\n",
       "       [ 0.73522744, -0.82043851,  2.        ],\n",
       "       [-1.77753013, -2.01931826,  2.        ],\n",
       "       [-2.68379741, -0.96240054,  2.        ],\n",
       "       [-0.8229729 , -0.8628767 ,  2.        ],\n",
       "       [-1.12447754, -2.52105226,  2.        ],\n",
       "       [-1.41555486, -1.01891845,  2.        ],\n",
       "       [-0.12054174, -0.83675332,  2.        ],\n",
       "       [-0.4338719 , -1.72115068,  2.        ],\n",
       "       [-0.62408301, -0.58939664,  2.        ],\n",
       "       [-1.27695383, -2.21263109,  2.        ],\n",
       "       [-0.64990147, -1.57374469,  2.        ],\n",
       "       [-1.29130716, -0.89460781,  2.        ],\n",
       "       [ 3.95194289,  2.22086267,  1.        ],\n",
       "       [ 5.73056972,  3.14686538,  0.        ],\n",
       "       [ 4.37159648,  4.60068962,  0.        ],\n",
       "       [ 3.4859881 ,  5.43648063,  0.        ],\n",
       "       [ 6.61356795,  4.26956351,  0.        ],\n",
       "       [ 6.03930334,  4.14499667,  0.        ],\n",
       "       [ 5.98962574,  4.64885533,  0.        ],\n",
       "       [ 6.18664566,  8.59548096,  0.        ],\n",
       "       [ 6.74836766,  4.5762775 ,  0.        ],\n",
       "       [ 6.71623843,  4.24382223,  0.        ],\n",
       "       [ 5.05835372,  6.7328904 ,  0.        ],\n",
       "       [ 4.22010943,  4.15510124,  0.        ],\n",
       "       [ 4.8083377 ,  2.83435798,  1.        ],\n",
       "       [ 7.14403422,  5.61408681,  0.        ],\n",
       "       [ 2.92524544,  3.38011565,  1.        ],\n",
       "       [ 4.02244104,  4.35005033,  0.        ],\n",
       "       [ 6.80706352,  5.51771015,  0.        ],\n",
       "       [ 6.46531797,  5.39940756,  0.        ],\n",
       "       [ 4.14170613,  1.22294418,  1.        ],\n",
       "       [ 4.64178121, -0.09119385,  1.        ],\n",
       "       [ 4.73015313,  2.78461976,  1.        ],\n",
       "       [ 4.52299654,  6.8611804 ,  0.        ],\n",
       "       [ 0.76816838,  4.40715811,  1.        ],\n",
       "       [ 4.25985513,  3.73715647,  0.        ],\n",
       "       [ 5.53530829,  3.72999301,  0.        ],\n",
       "       [ 9.24625283,  5.79815403,  0.        ],\n",
       "       [ 2.46665399,  4.57241472,  1.        ],\n",
       "       [ 3.89920973,  4.82412125,  0.        ],\n",
       "       [ 4.33234144,  0.37914464,  1.        ],\n",
       "       [ 3.36792741,  3.69856285,  1.        ],\n",
       "       [ 3.83299075,  4.03323489,  0.        ],\n",
       "       [ 1.66711177,  2.51038894,  1.        ],\n",
       "       [ 4.80528695,  3.9602504 ,  0.        ],\n",
       "       [ 4.10191528,  2.9567559 ,  1.        ],\n",
       "       [ 5.92661688,  5.50671409,  0.        ],\n",
       "       [ 5.09943338,  3.01132382,  0.        ],\n",
       "       [ 6.84604947,  6.25977119,  0.        ],\n",
       "       [ 7.80719815,  3.92613803,  0.        ],\n",
       "       [ 5.21105679,  5.55110479,  0.        ],\n",
       "       [ 2.85565029,  7.95748674,  0.        ],\n",
       "       [ 5.42283791,  4.11574842,  0.        ],\n",
       "       [ 7.42185432,  6.58870485,  0.        ],\n",
       "       [ 4.83463534,  2.14243744,  1.        ],\n",
       "       [ 5.67138229,  7.15812554,  0.        ],\n",
       "       [ 3.32629405,  1.90693931,  1.        ],\n",
       "       [ 7.6139873 ,  3.88673843,  0.        ],\n",
       "       [ 5.69945536,  3.43390287,  0.        ],\n",
       "       [ 4.26882988,  2.0096126 ,  1.        ],\n",
       "       [ 2.10050514,  1.7344053 ,  1.        ],\n",
       "       [ 3.80898964,  5.11956813,  0.        ]])"
      ]
     },
     "execution_count": 26,
     "metadata": {},
     "output_type": "execute_result"
    }
   ],
   "source": [
    "output_gmm"
   ]
  },
  {
   "cell_type": "code",
   "execution_count": 31,
   "metadata": {
    "collapsed": false
   },
   "outputs": [
    {
     "name": "stdout",
     "output_type": "stream",
     "text": [
      "done!\n",
      "in 10 iterations!\n",
      "\n"
     ]
    }
   ],
   "source": [
    "l2_result_centroids = kmeans(data,3,'l2')"
   ]
  },
  {
   "cell_type": "code",
   "execution_count": null,
   "metadata": {
    "collapsed": true
   },
   "outputs": [],
   "source": [
    "#final centroids & clustering"
   ]
  },
  {
   "cell_type": "code",
   "execution_count": 32,
   "metadata": {
    "collapsed": false
   },
   "outputs": [
    {
     "data": {
      "text/plain": [
       "[[5.620165734970588, 5.026226344176472],\n",
       " [3.083182557032258, 1.7762137380322585],\n",
       " [-0.974765718082353, -0.684193041176471]]"
      ]
     },
     "execution_count": 32,
     "metadata": {},
     "output_type": "execute_result"
    }
   ],
   "source": [
    "l2_result_centroids"
   ]
  },
  {
   "cell_type": "code",
   "execution_count": null,
   "metadata": {
    "collapsed": true
   },
   "outputs": [],
   "source": [
    "<h3>Clustering result using L2 distance measure</h3>"
   ]
  },
  {
   "cell_type": "code",
   "execution_count": 16,
   "metadata": {
    "collapsed": false
   },
   "outputs": [
    {
     "data": {
      "image/png": "[encoded data removed]",
      "text/plain": [
       "<IPython.core.display.Image object>"
      ]
     },
     "execution_count": 16,
     "metadata": {},
     "output_type": "execute_result"
    }
   ],
   "source": [
    "Image(filename='l1_cluster.png') "
   ]
  },
  {
   "cell_type": "code",
   "execution_count": 13,
   "metadata": {
    "collapsed": false,
    "scrolled": true
   },
   "outputs": [],
   "source": [
    "for index in range(len(data)):\n",
    "    point = data[index]\n",
    "    label = labels[index]\n",
    "    color = ['yellow','green','blue']\n",
    "    plt.scatter(point[0],point[1],c=color[label])\n",
    "for centroid in l1_result_centroids:\n",
    "    plt.scatter(centroid[0],centroid[1],c='red')\n",
    "plt.show()"
   ]
  },
  {
   "cell_type": "code",
   "execution_count": 14,
   "metadata": {
    "collapsed": false
   },
   "outputs": [
    {
     "data": {
      "text/plain": [
       "[[4.719158277729167, 5.1259647529375005],\n",
       " [9.923003253480768, 0.15096781351923078],\n",
       " [-0.08667900622000003, -0.005460671820000012]]"
      ]
     },
     "execution_count": 14,
     "metadata": {},
     "output_type": "execute_result"
    }
   ],
   "source": [
    "l2_result_centroids"
   ]
  },
  {
   "cell_type": "markdown",
   "metadata": {},
   "source": [
    "<h3>Clustering result using L2 distance measure</h3>"
   ]
  },
  {
   "cell_type": "code",
   "execution_count": 17,
   "metadata": {
    "collapsed": false
   },
   "outputs": [
    {
     "data": {
      "image/png": "[encoded data removed]",
      "text/plain": [
       "<IPython.core.display.Image object>"
      ]
     },
     "execution_count": 17,
     "metadata": {},
     "output_type": "execute_result"
    }
   ],
   "source": [
    "Image(filename='l2_cluster.png') "
   ]
  },
  {
   "cell_type": "code",
   "execution_count": null,
   "metadata": {
    "collapsed": true
   },
   "outputs": [],
   "source": []
  }
 ],
 "metadata": {
  "kernelspec": {
   "display_name": "Python 2",
   "language": "python",
   "name": "python2"
  },
  "language_info": {
   "codemirror_mode": {
    "name": "ipython",
    "version": 2
   },
   "file_extension": ".py",
   "mimetype": "text/x-python",
   "name": "python",
   "nbconvert_exporter": "python",
   "pygments_lexer": "ipython2",
   "version": "2.7.10"
  }
 },
 "nbformat": 4,
 "nbformat_minor": 0
}
